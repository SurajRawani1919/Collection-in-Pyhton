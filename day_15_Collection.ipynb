{
  "nbformat": 4,
  "nbformat_minor": 0,
  "metadata": {
    "colab": {
      "provenance": []
    },
    "kernelspec": {
      "name": "python3",
      "display_name": "Python 3"
    },
    "language_info": {
      "name": "python"
    }
  },
  "cells": [
    {
      "cell_type": "code",
      "execution_count": null,
      "metadata": {
        "colab": {
          "base_uri": "https://localhost:8080/"
        },
        "id": "eCUUp9BjE2J8",
        "outputId": "c299acb9-46c3-4a0f-fdd5-b27dd773b3b9"
      },
      "outputs": [
        {
          "output_type": "execute_result",
          "data": {
            "text/plain": [
              "Counter()"
            ]
          },
          "metadata": {},
          "execution_count": 3
        }
      ],
      "source": [
        "import collections as c\n",
        "c.Counter()"
      ]
    },
    {
      "cell_type": "code",
      "source": [
        "from collections import Counter\n",
        "mylist=[10,10,20,30,20,40,60,'A']\n",
        "Counter(mylist)"
      ],
      "metadata": {
        "colab": {
          "base_uri": "https://localhost:8080/"
        },
        "id": "-s2XeW-zE6eP",
        "outputId": "31b71c8a-7837-401d-c85e-e3f505875da7"
      },
      "execution_count": null,
      "outputs": [
        {
          "output_type": "execute_result",
          "data": {
            "text/plain": [
              "Counter({10: 2, 20: 2, 30: 1, 40: 1, 60: 1, 'A': 1})"
            ]
          },
          "metadata": {},
          "execution_count": 5
        }
      ]
    },
    {
      "cell_type": "code",
      "source": [
        "from collections import Counter\n",
        "mylist=[10,10,20,30,20,40,60,'A']\n",
        "a=Counter(mylist)\n",
        "\n",
        "a.update([20,70])\n",
        "print(a)\n",
        "a.most_common(2)\n"
      ],
      "metadata": {
        "colab": {
          "base_uri": "https://localhost:8080/"
        },
        "id": "3x36vENaFVGZ",
        "outputId": "2a6c2e41-8d29-4ba4-dad8-8367eb790d9e"
      },
      "execution_count": null,
      "outputs": [
        {
          "output_type": "stream",
          "name": "stdout",
          "text": [
            "Counter({20: 3, 10: 2, 30: 1, 40: 1, 60: 1, 'A': 1, 70: 1})\n"
          ]
        },
        {
          "output_type": "execute_result",
          "data": {
            "text/plain": [
              "[(20, 3), (10, 2)]"
            ]
          },
          "metadata": {},
          "execution_count": 11
        }
      ]
    },
    {
      "cell_type": "code",
      "source": [
        "print(a)\n",
        "list(a.elements())"
      ],
      "metadata": {
        "colab": {
          "base_uri": "https://localhost:8080/"
        },
        "id": "rsgQL7-eF6tw",
        "outputId": "86c98120-86f0-4d7d-eb9d-f6558e7dda02"
      },
      "execution_count": null,
      "outputs": [
        {
          "output_type": "stream",
          "name": "stdout",
          "text": [
            "Counter({20: 3, 10: 2, 30: 1, 40: 1, 60: 1, 'A': 1, 70: 1})\n"
          ]
        },
        {
          "output_type": "execute_result",
          "data": {
            "text/plain": [
              "[10, 10, 20, 20, 20, 30, 40, 60, 'A', 70]"
            ]
          },
          "metadata": {},
          "execution_count": 13
        }
      ]
    },
    {
      "cell_type": "code",
      "source": [
        "from collections import defaultdict\n",
        "\n",
        "d = defaultdict(int)\n",
        "\n",
        "d[\"a\"] = 10\n",
        "d[\"b\"]\n",
        "print(d.items())\n"
      ],
      "metadata": {
        "colab": {
          "base_uri": "https://localhost:8080/"
        },
        "id": "Pn5dhsGOGHbU",
        "outputId": "42c06f00-644a-42a2-8774-ad4546f9b5f4"
      },
      "execution_count": 17,
      "outputs": [
        {
          "output_type": "stream",
          "name": "stdout",
          "text": [
            "dict_items([('a', 10), ('b', 0)])\n"
          ]
        }
      ]
    },
    {
      "cell_type": "code",
      "source": [
        "mylist=[(10,\"tushar\"),(20,\"aman\"),(30,\"abc\")]\n",
        "\n",
        "for data in mylist:\n",
        "  print(data)"
      ],
      "metadata": {
        "id": "orF24jywJBc2",
        "colab": {
          "base_uri": "https://localhost:8080/"
        },
        "outputId": "14b23c96-6b89-4217-e2ee-ad33f4a61b60"
      },
      "execution_count": 18,
      "outputs": [
        {
          "output_type": "stream",
          "name": "stdout",
          "text": [
            "(10, 'tushar')\n",
            "(20, 'aman')\n",
            "(30, 'abc')\n"
          ]
        }
      ]
    },
    {
      "cell_type": "code",
      "source": [
        "mylist=[(10,\"tushar\"),(20,\"aman\"),(10,\"abc\")]\n",
        "s= defaultdict(list)\n",
        "\n",
        "for roll,name in mylist:\n",
        "  s[roll].append(name)\n",
        "\n",
        "print(s)"
      ],
      "metadata": {
        "colab": {
          "base_uri": "https://localhost:8080/"
        },
        "id": "iRyCKuzGKDqf",
        "outputId": "3b6e936f-4474-4c98-bdcb-bc8b03a2c5a5"
      },
      "execution_count": 24,
      "outputs": [
        {
          "output_type": "stream",
          "name": "stdout",
          "text": [
            "defaultdict(<class 'list'>, {10: ['tushar', 'abc'], 20: ['aman']})\n"
          ]
        }
      ]
    },
    {
      "cell_type": "code",
      "source": [
        "mylist=[(10,\"tushar\"),(20,\"aman\"),(10,\"abc\")]\n",
        "s= defaultdict(list)\n",
        "\n",
        "for roll,name in mylist:\n",
        "  s[roll].append(name)\n",
        "\n",
        "print(s[30])"
      ],
      "metadata": {
        "colab": {
          "base_uri": "https://localhost:8080/"
        },
        "id": "Im0aVPlxKULK",
        "outputId": "fc1a0b5c-a411-4c18-a8ba-b700149b9aaf"
      },
      "execution_count": 23,
      "outputs": [
        {
          "output_type": "stream",
          "name": "stdout",
          "text": [
            "[]\n"
          ]
        }
      ]
    },
    {
      "cell_type": "code",
      "source": [
        "from collections import OrderedDict\n",
        "\n",
        "o = OrderedDict()\n",
        "o[\"a\"]=1\n",
        "o[\"b\"]=99\n",
        "o[\"aa\"]=1991\n",
        "o.move_to_end(\"b\",last=False)\n",
        "print(o)\n"
      ],
      "metadata": {
        "colab": {
          "base_uri": "https://localhost:8080/"
        },
        "id": "itc2IVc9K4BP",
        "outputId": "0b0e00e7-5f41-4ad0-fdf2-73c2f12c79fd"
      },
      "execution_count": 25,
      "outputs": [
        {
          "output_type": "stream",
          "name": "stdout",
          "text": [
            "OrderedDict([('b', 99), ('a', 1), ('aa', 1991)])\n"
          ]
        }
      ]
    },
    {
      "cell_type": "code",
      "source": [
        "# namedtuple()\n",
        "from collections  import namedtuple"
      ],
      "metadata": {
        "id": "-p0w_5VYMN7-"
      },
      "execution_count": 27,
      "outputs": []
    },
    {
      "cell_type": "code",
      "source": [
        "Point123 = namedtuple ('Point',['x','y'])\n",
        "p = Point123(11,22)\n",
        "print(p.x)\n",
        "print(p[0])\n"
      ],
      "metadata": {
        "colab": {
          "base_uri": "https://localhost:8080/"
        },
        "id": "4BUGU0j0NAdp",
        "outputId": "12a3af2a-4040-40be-9a23-76561853418d"
      },
      "execution_count": 29,
      "outputs": [
        {
          "output_type": "stream",
          "name": "stdout",
          "text": [
            "11\n",
            "11\n"
          ]
        }
      ]
    },
    {
      "cell_type": "code",
      "source": [
        "p._asdict()\n",
        "p._replace(x=199)"
      ],
      "metadata": {
        "colab": {
          "base_uri": "https://localhost:8080/"
        },
        "id": "pB5xrzENNZYr",
        "outputId": "b55c9ab4-75a8-496b-ccb0-09516e263923"
      },
      "execution_count": 33,
      "outputs": [
        {
          "output_type": "execute_result",
          "data": {
            "text/plain": [
              "{'x': 199, 'y': 22}"
            ]
          },
          "metadata": {},
          "execution_count": 33
        }
      ]
    },
    {
      "cell_type": "code",
      "source": [
        "\n",
        "p._replace(x=199)\n",
        "print(p)"
      ],
      "metadata": {
        "colab": {
          "base_uri": "https://localhost:8080/"
        },
        "id": "KJGtd0YZN5Id",
        "outputId": "0067aa76-924b-4708-820a-b16843078da4"
      },
      "execution_count": 34,
      "outputs": [
        {
          "output_type": "stream",
          "name": "stdout",
          "text": [
            "Point(x=199, y=22)\n"
          ]
        }
      ]
    },
    {
      "cell_type": "code",
      "source": [
        "Point123 = namedtuple ('Point',['x','y'])\n",
        "x={'name':'suraj','age':22}\n",
        "print(x)\n",
        "Point123(**x)"
      ],
      "metadata": {
        "colab": {
          "base_uri": "https://localhost:8080/",
          "height": 198
        },
        "id": "7Qlxsyg6OL7V",
        "outputId": "07037a29-6602-489b-8d29-a0bb44722084"
      },
      "execution_count": 39,
      "outputs": [
        {
          "output_type": "stream",
          "name": "stdout",
          "text": [
            "{'name': 'suraj', 'age': 22}\n"
          ]
        },
        {
          "output_type": "error",
          "ename": "TypeError",
          "evalue": "Point.__new__() got an unexpected keyword argument 'name'",
          "traceback": [
            "\u001b[0;31m---------------------------------------------------------------------------\u001b[0m",
            "\u001b[0;31mTypeError\u001b[0m                                 Traceback (most recent call last)",
            "\u001b[0;32m<ipython-input-39-20b03fe8eaaf>\u001b[0m in \u001b[0;36m<cell line: 4>\u001b[0;34m()\u001b[0m\n\u001b[1;32m      2\u001b[0m \u001b[0mx\u001b[0m\u001b[0;34m=\u001b[0m\u001b[0;34m{\u001b[0m\u001b[0;34m'name'\u001b[0m\u001b[0;34m:\u001b[0m\u001b[0;34m'suraj'\u001b[0m\u001b[0;34m,\u001b[0m\u001b[0;34m'age'\u001b[0m\u001b[0;34m:\u001b[0m\u001b[0;36m22\u001b[0m\u001b[0;34m}\u001b[0m\u001b[0;34m\u001b[0m\u001b[0;34m\u001b[0m\u001b[0m\n\u001b[1;32m      3\u001b[0m \u001b[0mprint\u001b[0m\u001b[0;34m(\u001b[0m\u001b[0mx\u001b[0m\u001b[0;34m)\u001b[0m\u001b[0;34m\u001b[0m\u001b[0;34m\u001b[0m\u001b[0m\n\u001b[0;32m----> 4\u001b[0;31m \u001b[0mPoint123\u001b[0m\u001b[0;34m(\u001b[0m\u001b[0;34m**\u001b[0m\u001b[0mx\u001b[0m\u001b[0;34m)\u001b[0m\u001b[0;34m\u001b[0m\u001b[0;34m\u001b[0m\u001b[0m\n\u001b[0m",
            "\u001b[0;31mTypeError\u001b[0m: Point.__new__() got an unexpected keyword argument 'name'"
          ]
        }
      ]
    },
    {
      "cell_type": "code",
      "source": [
        "# deque"
      ],
      "metadata": {
        "id": "DDiFQqnfOxb0"
      },
      "execution_count": 40,
      "outputs": []
    },
    {
      "cell_type": "code",
      "source": [
        "# list => Stack"
      ],
      "metadata": {
        "id": "ls_pMo04Plhz"
      },
      "execution_count": 41,
      "outputs": []
    },
    {
      "cell_type": "code",
      "source": [
        "from collections import deque"
      ],
      "metadata": {
        "id": "SLESGqpfQWov"
      },
      "execution_count": 42,
      "outputs": []
    },
    {
      "cell_type": "code",
      "source": [
        "dq = deque([\"tushar\",\"abc\",\"xyz\",20])\n",
        "\n"
      ],
      "metadata": {
        "id": "9r1mcCctQfNR"
      },
      "execution_count": 43,
      "outputs": []
    },
    {
      "cell_type": "code",
      "source": [
        "# Intersection of Two Arrays,\n",
        "nums1 = [1,2,2,1]\n",
        "nums2 = [2,2]\n",
        "list1=[]\n",
        "for i in nums1:\n",
        "  for j in nums2:\n",
        "    if i not in list1 and i in nums2:\n",
        "      list1.append(i)\n",
        "print(list1)"
      ],
      "metadata": {
        "colab": {
          "base_uri": "https://localhost:8080/"
        },
        "id": "9M4vqv83T2W-",
        "outputId": "8e6c3baa-336b-4ab3-ce00-488b0b14f915"
      },
      "execution_count": 49,
      "outputs": [
        {
          "output_type": "stream",
          "name": "stdout",
          "text": [
            "[2]\n"
          ]
        }
      ]
    },
    {
      "cell_type": "code",
      "source": [
        "# Merge Sorted Array\n",
        "nums1 = [1,2,3,0,0,0]\n",
        "m=3\n",
        "nums2 = [2,5,6]\n",
        "n=32\n",
        "for i in range(len(nums[3]),len(nums)):\n",
        "  if i not in\n"
      ],
      "metadata": {
        "colab": {
          "base_uri": "https://localhost:8080/"
        },
        "id": "-dspQr3hUJE4",
        "outputId": "0052a4a5-0ae9-466a-c021-c72bdf02cd70"
      },
      "execution_count": 46,
      "outputs": [
        {
          "output_type": "stream",
          "name": "stdout",
          "text": [
            "[2]\n"
          ]
        }
      ]
    },
    {
      "cell_type": "code",
      "source": [],
      "metadata": {
        "id": "sDTVmC3ZVEAo"
      },
      "execution_count": null,
      "outputs": []
    }
  ]
}